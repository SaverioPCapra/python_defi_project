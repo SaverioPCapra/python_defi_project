{
 "cells": [
  {
   "cell_type": "code",
   "execution_count": 1,
   "id": "d8cfbdd6",
   "metadata": {},
   "outputs": [],
   "source": [
    "import yfinance as yf\n",
    "import numpy as np\n",
    "import pandas as pd\n",
    "\n",
    "from numba import jit\n",
    "\n",
    "import requests"
   ]
  },
  {
   "cell_type": "markdown",
   "id": "72d8bdc3",
   "metadata": {},
   "source": [
    "### References\n",
    "- December 2008 S&P 100 list: https://en.wikipedia.org/w/index.php?title=S%26P_100&oldid=255457499 (first version of the page with the actual list)\n",
    "- S&P 100 Additions and Deletions 2004 to 2016: https://www.newlowobserver.com/2017/09/sp-100-additions-and-deletions-2004-to-2017\n",
    "- FTSE100 December 2006 list: https://en.wikipedia.org/w/index.php?title=FTSE_100_Index&oldid=97533049\n",
    "- December 2006 HANG SENG lsit: https://en.wikipedia.org/w/index.php?title=Hang_Seng_Index&oldid=97178424"
   ]
  },
  {
   "cell_type": "code",
   "execution_count": 2,
   "id": "2b99d3af",
   "metadata": {},
   "outputs": [],
   "source": [
    "def get_index_tickers(url, table_index, ticker_column_name='Symbol'):\n",
    "\n",
    "    headers = {\n",
    "            'User-Agent': 'Mozilla/5.0 (Windows NT 10.0; Win64; x64) AppleWebKit/537.36 (KHTML, like Gecko) Chrome/91.0.4472.124 Safari/537.36'\n",
    "        }\n",
    "    \n",
    "    response = requests.get(url, headers=headers, verify=True)\n",
    "\n",
    "    response.raise_for_status() \n",
    "\n",
    "    payload = pd.read_html(response.text)\n",
    "\n",
    "    table = payload[table_index]\n",
    "    tickers = table[ticker_column_name].tolist()\n",
    "\n",
    "    tickers = [str(t).split(' ')[0] for t in tickers]\n",
    "\n",
    "    return tickers\n",
    "    \n"
   ]
  },
  {
   "cell_type": "markdown",
   "id": "cc516132",
   "metadata": {},
   "source": [
    "### S&P 100 Data"
   ]
  },
  {
   "cell_type": "code",
   "execution_count": 3,
   "id": "a5b7e8a8",
   "metadata": {},
   "outputs": [],
   "source": [
    "wikipedia_historical_page_dec_2008 = \"https://en.wikipedia.org/w/index.php?title=S%26P_100&oldid=255457499\"\n",
    "sp100_2008_indices = get_index_tickers(wikipedia_historical_page_dec_2008, 0)"
   ]
  },
  {
   "cell_type": "markdown",
   "id": "ff6cc348",
   "metadata": {},
   "source": [
    "Now, we have to reverse engineer the S&P stocks list in 2006 based on the information contained in the reference: https://www.newlowobserver.com/2017/09/sp-100-additions-and-deletions-2004-to-2017."
   ]
  },
  {
   "cell_type": "code",
   "execution_count": 4,
   "id": "5d2468a5",
   "metadata": {},
   "outputs": [],
   "source": [
    "# Changes in 2008\n",
    "added_tickers_2008 = [\n",
    "    'UNH', 'PM', 'NOV', 'QCOM', 'OXY', 'WYE', 'GILD', 'LOW', 'DVN',\n",
    "    'LMT', 'WAG', 'SGP', 'NKE', 'AMZN', 'COST'\n",
    "]\n",
    "dropped_tickers_2008 = [\n",
    "    'HET', 'ATI', 'ROK', 'CCU', 'LEH', 'BUD', 'IP', 'CBS', 'EP',\n",
    "    'AES', 'HIG', 'AIG', 'CI', 'MER', 'WB'  \n",
    "]\n",
    "\n",
    "# Changes in 2007\n",
    "added_tickers_2007 = [\n",
    "    'CVS', 'KFT', 'AAPL', 'BK'\n",
    "]\n",
    "dropped_tickers_2007 = [\n",
    "    'BDK', 'EK', 'MEDI', 'CSC'\n",
    "]\n",
    "\n",
    "# Changes in 2006\n",
    "added_tickers_2006 = [\n",
    "    'WB', 'RF', 'GOOG', 'COP'  \n",
    "]\n",
    "dropped_tickers_2006 = [\n",
    "    'UIS', 'RSH', 'HCA', 'COF'\n",
    "]"
   ]
  },
  {
   "cell_type": "code",
   "execution_count": 5,
   "id": "55a6b62b",
   "metadata": {},
   "outputs": [],
   "source": [
    "sp100_set = set(sp100_2008_indices)\n",
    "\n",
    "n_periods_rollback = 3\n",
    "\n",
    "tickers_to_add = [dropped_tickers_2006, dropped_tickers_2007, dropped_tickers_2008]\n",
    "tickers_to_remove = [added_tickers_2006, added_tickers_2007, added_tickers_2008]\n",
    "\n",
    "for i in range(n_periods_rollback):\n",
    "    sp100_set.update(tickers_to_add[i])\n",
    "    sp100_set.difference_update(tickers_to_remove[i])"
   ]
  },
  {
   "cell_type": "markdown",
   "id": "20461202",
   "metadata": {},
   "source": [
    "Now we source from `yfinance` the stock history for this stock and we save it as a csv."
   ]
  },
  {
   "cell_type": "code",
   "execution_count": 6,
   "id": "7b957dee",
   "metadata": {},
   "outputs": [],
   "source": [
    "tickers_string = \" \".join(list(sp100_set))"
   ]
  },
  {
   "cell_type": "code",
   "execution_count": 7,
   "id": "21629763",
   "metadata": {},
   "outputs": [
    {
     "name": "stderr",
     "output_type": "stream",
     "text": [
      "[*********************100%***********************]  100 of 100 completed\n",
      "\n",
      "25 Failed downloads:\n",
      "['MA', 'S', 'BHI', 'BUD', 'CSC', 'HET', 'MER', 'EMC', 'RSH', 'MEDI', 'DOW', 'SLE', 'WB', 'HCA', 'COV', 'DELL']: YFPricesMissingError('possibly delisted; no price data found  (1d 2004-01-01 -> 2006-01-01) (Yahoo error = \"Data doesn\\'t exist for startDate = 1072933200, endDate = 1136091600\")')\n",
      "['BNI', 'LEH', 'TYC', 'NYX', 'EK']: YFPricesMissingError('possibly delisted; no price data found  (1d 2004-01-01 -> 2006-01-01)')\n",
      "['UTX', 'RTN', 'AVP', 'CBS']: YFTzMissingError('possibly delisted; no timezone found')\n"
     ]
    }
   ],
   "source": [
    "sp100_tickers = yf.Tickers(tickers_string)\n",
    "sp100_hist = sp100_tickers.history(start= \"2004-01-01\", period= \"2y\")"
   ]
  },
  {
   "cell_type": "code",
   "execution_count": 52,
   "id": "19651fd4",
   "metadata": {},
   "outputs": [],
   "source": [
    "def clean_ticker_history(ticker_hist, threshold = 450):\n",
    "    extract_close_set_hist_range = ticker_hist[(\"Close\",)][\"2004-01-01\":\"2006-12-31\"]\n",
    "\n",
    "    # we only get the stocks for which there are no more than a certain number of nan values\n",
    "    cleaned_history = extract_close_set_hist_range.dropna(axis = 1, thresh = threshold)\n",
    "    cleaned_history = cleaned_history.fillna(method = \"ffill\")\n",
    "\n",
    "    # we check the remaining number of null values, just to be sure\n",
    "    print(f\"The remaining number of NaN values is {cleaned_history.isna().sum().sum()}\")\n",
    "\n",
    "    return cleaned_history"
   ]
  },
  {
   "cell_type": "code",
   "execution_count": 53,
   "id": "d178791f",
   "metadata": {},
   "outputs": [
    {
     "name": "stdout",
     "output_type": "stream",
     "text": [
      "The remaining number of NaN values is 0\n"
     ]
    }
   ],
   "source": [
    "sp100_2004_2006 = clean_ticker_history(sp100_hist)"
   ]
  },
  {
   "cell_type": "code",
   "execution_count": 54,
   "id": "e6df4a3e",
   "metadata": {},
   "outputs": [
    {
     "data": {
      "text/plain": [
       "(504, 75)"
      ]
     },
     "execution_count": 54,
     "metadata": {},
     "output_type": "execute_result"
    }
   ],
   "source": [
    "sp100_2004_2006.shape"
   ]
  },
  {
   "cell_type": "code",
   "execution_count": 55,
   "id": "ff0be149",
   "metadata": {},
   "outputs": [],
   "source": [
    "sp100_2004_2006.to_csv(\"C:\\\\Users\\\\Saverio\\\\Documents\\\\GitHub\\\\python_defi_project\\\\data\\\\sp100.csv\")"
   ]
  },
  {
   "cell_type": "markdown",
   "id": "7c107d45",
   "metadata": {},
   "source": [
    "### FTSE"
   ]
  },
  {
   "cell_type": "code",
   "execution_count": 30,
   "id": "12b8b0fd",
   "metadata": {},
   "outputs": [],
   "source": [
    "ftse_100_tickers_2006 = [\n",
    "    'III.L', 'AL.L', 'AB.L', 'AVZ.L', 'AAL.L', 'ANTO.L', 'ABF.L', 'AZN.L', 'AV.L',\n",
    "    'BA.L', 'BARC.L', 'BG.L', 'BHP.L', 'BP.L', 'BB.L', 'BXB.L', 'BAY.L', 'BATS.L',\n",
    "    'BLND.L', 'SKY.L', 'BT-A.L', 'CBRY.L', 'CNE.L', 'CPI.L', 'CCL.L', 'CNA.L',\n",
    "    'CPG.L', 'CS.L', 'DGE.L', 'DRX.L', 'DSGI.L', 'ETI.L', 'EXPN.L', 'FP.L', 'GLH.L',\n",
    "    'GSK.L', 'HMSO.L', 'HNS.L', 'HBOS.L', 'HOME.L', 'HSBA.L', 'IAP.L', 'ICI.L',\n",
    "    'IMT.L', 'IHG.L', 'IPR.L', 'ITV.L', 'SBRY.L', 'JMAT.L', 'KAZ.L', 'KEL.L',\n",
    "    'KGF.L', 'LAND.L', 'LGEN.L', 'LII.L', 'LLOY.L', 'LMI.L', 'EMG.L', 'MKS.L',\n",
    "    'MRW.L', 'NG.L', 'NXT.L', 'NRK.L', 'OML.L', 'PSON.L', 'PSN.L', 'PRU.L', 'RB.L',\n",
    "    'REL.L', 'RSL.L', 'RTR.L', 'REX.L', 'RIO.L', 'RR.L', 'RSA.L', 'RBS.L', 'RDSA.L',\n",
    "    'SAB.L', 'SGE.L', 'SCTN.L', 'SSE.L', 'SPW.L', 'SVT.L', 'SHP.L', 'SLOU.L',\n",
    "    'SN.L', 'SMIN.L', 'STAN.L', 'SL.L', 'TATE.L', 'TSCO.L', 'ULVR.L', 'UU.L',\n",
    "    'VED.L', 'VOD.L', 'WTB.L', 'WOS.L', 'WPP.L', 'XTA.L', 'YELL.L'\n",
    "]"
   ]
  },
  {
   "cell_type": "code",
   "execution_count": 32,
   "id": "2e126fef",
   "metadata": {},
   "outputs": [
    {
     "name": "stderr",
     "output_type": "stream",
     "text": [
      "[*********************100%***********************]  100 of 100 completed\n",
      "\n",
      "43 Failed downloads:\n",
      "['SPW.L', 'IMT.L', 'KEL.L', 'GLH.L', 'YELL.L', 'NRK.L', 'SAB.L', 'HBOS.L', 'HNS.L', 'ICI.L', 'DSGI.L', 'AVZ.L', 'IAP.L', 'SLOU.L', 'LII.L', 'RTR.L', 'CBRY.L', 'REX.L', 'SCTN.L', 'ETI.L', 'AL.L', 'BG.L', 'WOS.L', 'SL.L', 'BB.L', 'IPR.L']: YFPricesMissingError('possibly delisted; no price data found  (1d 2004-01-01 -> 2006-01-01)')\n",
      "['LMI.L', 'RBS.L', 'RSA.L', 'RDSA.L', 'MRW.L', 'CS.L', 'RB.L', 'AB.L', 'KAZ.L', 'BXB.L']: YFTzMissingError('possibly delisted; no timezone found')\n",
      "['HOME.L', 'FP.L', 'EXPN.L', 'BAY.L']: YFPricesMissingError('possibly delisted; no price data found  (1d 2004-01-01 -> 2006-01-01) (Yahoo error = \"Data doesn\\'t exist for startDate = 1072915200, endDate = 1136073600\")')\n",
      "['RSL.L', 'SKY.L', 'OML.L']: YFPricesMissingError('possibly delisted; no price data found  (1d 2004-01-01 -> 2006-01-01) (Yahoo error = \"Data doesn\\'t exist for startDate = 1072933200, endDate = 1136091600\")')\n"
     ]
    }
   ],
   "source": [
    "ftse_tickers = yf.Tickers(ftse_100_tickers_2006)\n",
    "ftse_hist = ftse_tickers.history(start= \"2004-01-01\", period= \"2y\")"
   ]
  },
  {
   "cell_type": "code",
   "execution_count": 56,
   "id": "4c162959",
   "metadata": {},
   "outputs": [
    {
     "name": "stdout",
     "output_type": "stream",
     "text": [
      "The remaining number of NaN values is 3\n"
     ]
    }
   ],
   "source": [
    "# There are still some nan values in the first row, 3 in total, so we remove them\n",
    "ftse_hist_2006 = clean_ticker_history(ftse_hist)"
   ]
  },
  {
   "cell_type": "code",
   "execution_count": 57,
   "id": "c9998417",
   "metadata": {},
   "outputs": [],
   "source": [
    "ftse_hist_2006 = ftse_hist_2006.dropna()"
   ]
  },
  {
   "cell_type": "code",
   "execution_count": 58,
   "id": "b0acf4fb",
   "metadata": {},
   "outputs": [
    {
     "data": {
      "text/plain": [
       "(521, 56)"
      ]
     },
     "execution_count": 58,
     "metadata": {},
     "output_type": "execute_result"
    }
   ],
   "source": [
    "ftse_hist_2006.shape"
   ]
  },
  {
   "cell_type": "code",
   "execution_count": 59,
   "id": "6000bf32",
   "metadata": {},
   "outputs": [],
   "source": [
    "ftse_hist_2006.to_csv(\"C:\\\\Users\\\\Saverio\\\\Documents\\\\GitHub\\\\python_defi_project\\\\data\\\\ftse100.csv\")"
   ]
  },
  {
   "cell_type": "markdown",
   "id": "b8a913b4",
   "metadata": {},
   "source": [
    "### HANG SENG Index"
   ]
  },
  {
   "cell_type": "code",
   "execution_count": 43,
   "id": "6247fb2d",
   "metadata": {},
   "outputs": [],
   "source": [
    "hang_seng_tickers_2006_era = [\n",
    "    # Finance\n",
    "    '0005.HK', '0011.HK', '0023.HK', '2388.HK',\n",
    "    # Utilities\n",
    "    '0002.HK', '0003.HK', '0006.HK',\n",
    "    # Property\n",
    "    '0001.HK', '0012.HK', '0016.HK', '0083.HK', '0101.HK',\n",
    "    # Commercial & Industrial\n",
    "    '0004.HK', '0008.HK', '0013.HK', '0017.HK', '0019.HK', '0066.HK',\n",
    "    '0144.HK', '0179.HK', '0267.HK', '0291.HK', '0293.HK', '0330.HK',\n",
    "    '0494.HK', '0551.HK', '0762.HK', '0883.HK', '0906.HK', '0941.HK',\n",
    "    '0992.HK', '1038.HK', '1199.HK'\n",
    "]"
   ]
  },
  {
   "cell_type": "code",
   "execution_count": 44,
   "id": "85d0b29b",
   "metadata": {},
   "outputs": [
    {
     "name": "stderr",
     "output_type": "stream",
     "text": [
      "[*********************100%***********************]  33 of 33 completed\n",
      "\n",
      "3 Failed downloads:\n",
      "['0906.HK', '0494.HK']: YFTzMissingError('possibly delisted; no timezone found')\n",
      "['0013.HK']: YFPricesMissingError('possibly delisted; no price data found  (1d 2004-01-01 -> 2006-01-01) (Yahoo error = \"Data doesn\\'t exist for startDate = 1072886400, endDate = 1136044800\")')\n"
     ]
    }
   ],
   "source": [
    "hangseng_tickers = yf.Tickers(hang_seng_tickers_2006_era)\n",
    "hangseng_hist = hangseng_tickers.history(start= \"2004-01-01\", period= \"2y\")"
   ]
  },
  {
   "cell_type": "code",
   "execution_count": 60,
   "id": "7d154da7",
   "metadata": {},
   "outputs": [
    {
     "name": "stdout",
     "output_type": "stream",
     "text": [
      "The remaining number of NaN values is 54\n"
     ]
    }
   ],
   "source": [
    "hangseng_hist_2006 = clean_ticker_history(hangseng_hist)"
   ]
  },
  {
   "cell_type": "code",
   "execution_count": 65,
   "id": "171ebc5d",
   "metadata": {},
   "outputs": [
    {
     "data": {
      "text/plain": [
       "54"
      ]
     },
     "execution_count": 65,
     "metadata": {},
     "output_type": "execute_result"
    }
   ],
   "source": [
    "# The NaN values correspond to the missing entries of 0883 HK\n",
    "hangseng_hist_2006[\"0883.HK\"].isna().sum()\n",
    "\n",
    "# as the data will then be converted to pct_changes and there are still at least 450 non-na observations, we don't perform any modifications"
   ]
  },
  {
   "cell_type": "code",
   "execution_count": 66,
   "id": "b9148f72",
   "metadata": {},
   "outputs": [
    {
     "data": {
      "text/plain": [
       "(509, 30)"
      ]
     },
     "execution_count": 66,
     "metadata": {},
     "output_type": "execute_result"
    }
   ],
   "source": [
    "hangseng_hist_2006.shape"
   ]
  },
  {
   "cell_type": "code",
   "execution_count": 67,
   "id": "0af6bbec",
   "metadata": {},
   "outputs": [],
   "source": [
    "hangseng_hist_2006.to_csv(\"C:\\\\Users\\\\Saverio\\\\Documents\\\\GitHub\\\\python_defi_project\\\\data\\\\hanseng.csv\")"
   ]
  }
 ],
 "metadata": {
  "kernelspec": {
   "display_name": "base",
   "language": "python",
   "name": "python3"
  },
  "language_info": {
   "codemirror_mode": {
    "name": "ipython",
    "version": 3
   },
   "file_extension": ".py",
   "mimetype": "text/x-python",
   "name": "python",
   "nbconvert_exporter": "python",
   "pygments_lexer": "ipython3",
   "version": "3.9.21"
  }
 },
 "nbformat": 4,
 "nbformat_minor": 5
}
